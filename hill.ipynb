{
  "nbformat": 4,
  "nbformat_minor": 0,
  "metadata": {
    "colab": {
      "name": "hill.ipynb",
      "version": "0.3.2",
      "provenance": [],
      "collapsed_sections": [],
      "include_colab_link": true
    },
    "kernelspec": {
      "name": "python3",
      "display_name": "Python 3"
    }
  },
  "cells": [
    {
      "cell_type": "markdown",
      "metadata": {
        "id": "view-in-github",
        "colab_type": "text"
      },
      "source": [
        "<a href=\"https://colab.research.google.com/github/janvisinghvi/AI-hill-climbing/blob/master/hill.ipynb\" target=\"_parent\"><img src=\"https://colab.research.google.com/assets/colab-badge.svg\" alt=\"Open In Colab\"/></a>"
      ]
    },
    {
      "cell_type": "code",
      "metadata": {
        "id": "1RCvX5A_92dQ",
        "colab_type": "code",
        "colab": {
          "base_uri": "https://localhost:8080/",
          "height": 799
        },
        "outputId": "5e461b40-03af-4759-c23d-79a7e246200a"
      },
      "source": [
        "import math \n",
        "increment = 0.1\n",
        "startingPoint = [1, 1]\n",
        "point1 = [1,5]\n",
        "point2 = [6,4]\n",
        "point3 = [5,2]\n",
        "point4 = [2,1] \n",
        " \n",
        "def distance(x1, y1, x2, y2):\n",
        "    dist = math.pow(x2-x1, 2) + math.pow(y2-y1, 2)\n",
        "    return dist \n",
        " \n",
        "def sumOfDistances(x1, y1, px1, py1, px2, py2, px3, py3, px4, py4):\n",
        "    d1 = distance(x1, y1, px1, py1)\n",
        "    d2 = distance(x1, y1, px2, py2)\n",
        "    d3 = distance(x1, y1, px3, py3)\n",
        "    d4 = distance(x1, y1, px4, py4) \n",
        " \n",
        "    return d1 + d2 + d3 + d4\n",
        "def newDistance(x1, y1, point1, point2, point3, point4):\n",
        "    d1 = [x1, y1]\n",
        "    d1temp = sumOfDistances(x1, y1, point1[0],point1[1], point2[0],point2[1],point3[0],point3[1], point4[0],point4[1] )\n",
        "    d1.append(d1temp)\n",
        "    return d1 \n",
        " \n",
        "minDistance = sumOfDistances(startingPoint[0], startingPoint[1], point1[0],point1[1], point2[0],point2[1],point3[0],point3[1], point4[0],point4[1] )\n",
        "flag = True \n",
        " \n",
        "def newPoints(minimum, d1, d2, d3, d4):\n",
        "    if d1[2] == minimum:\n",
        "        return [d1[0], d1[1]]\n",
        "    elif d2[2] == minimum:\n",
        "        return [d2[0], d2[1]]\n",
        "    elif d3[2] == minimum:\n",
        "        return [d3[0], d3[1]]\n",
        "    elif d4[2] == minimum:\n",
        "        return [d4[0], d4[1]] \n",
        " \n",
        "i = 1\n",
        "while flag:\n",
        "    d1 = newDistance(startingPoint[0]+increment, startingPoint[1], point1, point2, point3, point4)\n",
        "    d2 = newDistance(startingPoint[0]-increment, startingPoint[1], point1, point2, point3, point4)\n",
        "    d3 = newDistance(startingPoint[0], startingPoint[1]+increment, point1, point2, point3, point4)\n",
        "    d4 = newDistance(startingPoint[0], startingPoint[1]-increment, point1, point2, point3, point4)\n",
        "    print (i,' ', round(startingPoint[0], 2), round(startingPoint[1], 2))\n",
        "    minimum = min(d1[2], d2[2], d3[2], d4[2])\n",
        "    if minimum < minDistance:\n",
        "        startingPoint = newPoints(minimum, d1, d2, d3, d4)\n",
        "        minDistance = minimum\n",
        "        #print i,' ', round(startingPoint[0], 2), round(startingPoint[1], 2)\n",
        "        i+=1\n",
        "    else:\n",
        "        flag = False\n",
        "\n"
      ],
      "execution_count": 1,
      "outputs": [
        {
          "output_type": "stream",
          "text": [
            "1   1 1\n",
            "2   1.1 1\n",
            "3   1.2 1\n",
            "4   1.3 1\n",
            "5   1.4 1\n",
            "6   1.5 1\n",
            "7   1.6 1\n",
            "8   1.6 1.1\n",
            "9   1.7 1.1\n",
            "10   1.7 1.2\n",
            "11   1.7 1.3\n",
            "12   1.8 1.3\n",
            "13   1.8 1.4\n",
            "14   1.9 1.4\n",
            "15   2.0 1.4\n",
            "16   2.0 1.5\n",
            "17   2.1 1.5\n",
            "18   2.1 1.6\n",
            "19   2.2 1.6\n",
            "20   2.2 1.7\n",
            "21   2.3 1.7\n",
            "22   2.3 1.8\n",
            "23   2.3 1.9\n",
            "24   2.4 1.9\n",
            "25   2.5 1.9\n",
            "26   2.5 2.0\n",
            "27   2.6 2.0\n",
            "28   2.6 2.1\n",
            "29   2.7 2.1\n",
            "30   2.7 2.2\n",
            "31   2.8 2.2\n",
            "32   2.8 2.3\n",
            "33   2.9 2.3\n",
            "34   2.9 2.4\n",
            "35   3.0 2.4\n",
            "36   3.0 2.5\n",
            "37   3.1 2.5\n",
            "38   3.1 2.6\n",
            "39   3.2 2.6\n",
            "40   3.2 2.7\n",
            "41   3.2 2.8\n",
            "42   3.3 2.8\n",
            "43   3.4 2.8\n",
            "44   3.4 2.9\n",
            "45   3.5 2.9\n",
            "46   3.5 3.0\n"
          ],
          "name": "stdout"
        }
      ]
    }
  ]
}